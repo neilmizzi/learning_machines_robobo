{
 "nbformat": 4,
 "nbformat_minor": 2,
 "metadata": {
  "language_info": {
   "name": "python",
   "codemirror_mode": {
    "name": "ipython",
    "version": 3
   },
   "version": "2.7.16-final"
  },
  "orig_nbformat": 2,
  "file_extension": ".py",
  "mimetype": "text/x-python",
  "name": "python",
  "npconvert_exporter": "python",
  "pygments_lexer": "ipython3",
  "version": 3,
  "kernelspec": {
   "name": "python271664bit5cb07b6d61224641a0d09c70997ed35d",
   "display_name": "Python 2.7.16 64-bit"
  }
 },
 "cells": [
  {
   "cell_type": "code",
   "execution_count": 9,
   "metadata": {},
   "outputs": [],
   "source": [
    "import csv\n",
    "import matplotlib.pyplot as plt\n",
    "import numpy as np\n",
    "import pickle\n",
    "\n",
    "dir = '/Users/neilmizzi/Desktop/learning_machines_assignment/learning_machines_robobo/results'"
   ]
  },
  {
   "cell_type": "code",
   "execution_count": 10,
   "metadata": {},
   "outputs": [],
   "source": [
    "f10 = dir+'/fitnesss_epsilon0.01_run0.csv'\n",
    "f11 = dir+'/fitnesss_epsilon0.01_run1.csv'\n",
    "f20 = dir+'/fitnesss_epsilon0.08_run0.csv'\n",
    "f21 = dir+'/fitnesss_epsilon0.08_run1.csv'\n",
    "f30 = dir+'/fitnesss_epsilon0.2_run0.csv'\n",
    "f31 = dir+'/fitnesss_epsilon0.2_run1.csv'\n"
   ]
  },
  {
   "cell_type": "code",
   "execution_count": 11,
   "metadata": {},
   "outputs": [],
   "source": [
    "r10 = dir+'/rewards_epsilon0.01_run0.csv'\n",
    "r11 = dir+'/rewards_epsilon0.01_run1.csv'\n",
    "r20 = dir+'/rewards_epsilon0.08_run0.csv'\n",
    "r21 = dir+'/rewards_epsilon0.08_run1.csv'\n",
    "r30 = dir+'/rewards_epsilon0.2_run0.csv'\n",
    "r31 = dir+'/rewards_epsilon0.2_run1.csv'\n"
   ]
  },
  {
   "cell_type": "code",
   "execution_count": 12,
   "metadata": {},
   "outputs": [
    {
     "ename": "IOError",
     "evalue": "[Errno 2] No such file or directory: '/Users/neilmizzi/Desktop/learning_machines_assignment/learning_machines_robobo/results/fitnesss_epsilon0.2_run0.csv'",
     "output_type": "error",
     "traceback": [
      "\u001b[0;31m\u001b[0m",
      "\u001b[0;31mIOError\u001b[0mTraceback (most recent call last)",
      "\u001b[0;32m<ipython-input-12-351541c48998>\u001b[0m in \u001b[0;36m<module>\u001b[0;34m()\u001b[0m\n\u001b[1;32m      8\u001b[0m \u001b[0;32mwith\u001b[0m \u001b[0mopen\u001b[0m\u001b[0;34m(\u001b[0m\u001b[0mf21\u001b[0m\u001b[0;34m,\u001b[0m \u001b[0;34m'rb'\u001b[0m\u001b[0;34m)\u001b[0m \u001b[0;32mas\u001b[0m \u001b[0mf\u001b[0m\u001b[0;34m:\u001b[0m\u001b[0;34m\u001b[0m\u001b[0m\n\u001b[1;32m      9\u001b[0m     \u001b[0mfit21\u001b[0m \u001b[0;34m=\u001b[0m \u001b[0mpickle\u001b[0m\u001b[0;34m.\u001b[0m\u001b[0mload\u001b[0m\u001b[0;34m(\u001b[0m\u001b[0mf\u001b[0m\u001b[0;34m)\u001b[0m\u001b[0;34m\u001b[0m\u001b[0m\n\u001b[0;32m---> 10\u001b[0;31m \u001b[0;32mwith\u001b[0m \u001b[0mopen\u001b[0m\u001b[0;34m(\u001b[0m\u001b[0mf30\u001b[0m\u001b[0;34m,\u001b[0m \u001b[0;34m'rb'\u001b[0m\u001b[0;34m)\u001b[0m \u001b[0;32mas\u001b[0m \u001b[0mf\u001b[0m\u001b[0;34m:\u001b[0m\u001b[0;34m\u001b[0m\u001b[0m\n\u001b[0m\u001b[1;32m     11\u001b[0m     \u001b[0mfit30\u001b[0m \u001b[0;34m=\u001b[0m \u001b[0mpickle\u001b[0m\u001b[0;34m.\u001b[0m\u001b[0mload\u001b[0m\u001b[0;34m(\u001b[0m\u001b[0mf\u001b[0m\u001b[0;34m)\u001b[0m\u001b[0;34m\u001b[0m\u001b[0m\n\u001b[1;32m     12\u001b[0m \u001b[0;32mwith\u001b[0m \u001b[0mopen\u001b[0m\u001b[0;34m(\u001b[0m\u001b[0mf31\u001b[0m\u001b[0;34m,\u001b[0m \u001b[0;34m'rb'\u001b[0m\u001b[0;34m)\u001b[0m \u001b[0;32mas\u001b[0m \u001b[0mf\u001b[0m\u001b[0;34m:\u001b[0m\u001b[0;34m\u001b[0m\u001b[0m\n",
      "\u001b[0;31mIOError\u001b[0m: [Errno 2] No such file or directory: '/Users/neilmizzi/Desktop/learning_machines_assignment/learning_machines_robobo/results/fitnesss_epsilon0.2_run0.csv'"
     ]
    }
   ],
   "source": [
    "with open(f10, 'rb') as f:\n",
    "    fit10 = pickle.load(f)\n",
    "    \n",
    "with open(f11, 'rb') as f:\n",
    "    fit11 = pickle.load(f)\n",
    "with open(f20, 'rb') as f:\n",
    "    fit20 = pickle.load(f)\n",
    "with open(f21, 'rb') as f:\n",
    "    fit21 = pickle.load(f)\n",
    "with open(f30, 'rb') as f:\n",
    "    fit30 = pickle.load(f)\n",
    "with open(f31, 'rb') as f:\n",
    "    fit31 = pickle.load(f)\n",
    "    \n",
    "\n",
    "with open(r10, 'rb') as f:\n",
    "    rwd10 = pickle.load(f)\n",
    "    \n",
    "with open(r11, 'rb') as f:\n",
    "    rwd11 = pickle.load(f)\n",
    "    \n",
    "with open(r20, 'rb') as f:\n",
    "    rwd20 = pickle.load(f)\n",
    "with open(r21, 'rb') as f:\n",
    "    rwd21 = pickle.load(f)\n",
    "with open(r30, 'rb') as f:\n",
    "    rwd30 = pickle.load(f)\n",
    "with open(r31, 'rb') as f:\n",
    "    rwd31 = pickle.load(f)"
   ]
  },
  {
   "cell_type": "code",
   "execution_count": 0,
   "metadata": {},
   "outputs": [],
   "source": [
    "#%%\n",
    "\n",
    "avg_rwd_1 = []\n",
    "std_rwd_1 = []\n",
    "length = min(len(rwd10), len(rwd11), len(rwd20), len(rwd21))\n",
    "for i in range(length):\n",
    "    avg_rwd_1.append(np.average([rwd10[i], rwd11[i]]))\n",
    "    std_rwd_1.append(np.std([rwd10[i], rwd11[i]]))\n",
    "    \n",
    "avg_rwd_2 = []\n",
    "std_rwd_2 = []\n",
    "for i in range(length):\n",
    "    avg_rwd_2.append(np.average([rwd20[i], rwd21[i]]))\n",
    "    std_rwd_2.append(np.std([rwd20[i], rwd21[i]]))\n",
    "    \n",
    "avg_rwd_3 = []\n",
    "std_rwd_3 = []\n",
    "for i in range(length):\n",
    "    avg_rwd_3.append(np.average([rwd30[i], rwd31[i]]))\n",
    "    std_rwd_3.append(np.std([rwd30[i], rwd31[i]]))\n",
    "plt.plot(avg_rwd_1, label='\\u03B5 = 0.01')\n",
    "plt.fill_between(range(length), [a_i - b_i for a_i, b_i in zip(avg_rwd_1, std_rwd_1)],\n",
    "                 [a_i + b_i for a_i, b_i in zip(avg_rwd_1, std_rwd_1)], alpha=0.5)\n",
    "plt.plot(avg_rwd_2, label='\\u03B5 = 0.08')\n",
    "plt.fill_between(range(length), [a_i - b_i for a_i, b_i in zip(avg_rwd_2, std_rwd_2)],\n",
    "                 [a_i + b_i for a_i, b_i in zip(avg_rwd_2, std_rwd_2)], alpha=0.5)\n",
    "plt.plot(avg_rwd_3, label='\\u03B5 = 0.2')\n",
    "plt.fill_between(range(length), [a_i - b_i for a_i, b_i in zip(avg_rwd_3, std_rwd_3)],\n",
    "                 [a_i + b_i for a_i, b_i in zip(avg_rwd_3, std_rwd_3)], alpha=0.5)\n",
    "plt.legend()\n",
    "plt.title('Average reward values while training')\n",
    "plt.savefig('pic1.png')\n",
    "plt.show()\n",
    "\n",
    "plt.plot(std_rwd_1, label='\\u03B5 = 0.01')\n",
    "plt.plot(std_rwd_2, label='\\u03B5 = 0.08')\n",
    "plt.plot(std_rwd_3, label='\\u03B5 = 0.2')\n",
    "plt.legend()\n",
    "plt.title('STDev of reward values while training')\n",
    "plt.savefig('pic2.png')\n",
    "plt.show()\n",
    "\n",
    "\n",
    "#%%\n",
    "\n",
    "avg_fit_1 = []\n",
    "std_fit_1 = []\n",
    "length = min(len(fit10), len(fit11), len(fit20), len(fit21))\n",
    "for i in range(length):\n",
    "    avg_fit_1.append(np.average([fit10[i], fit11[i]]))\n",
    "    std_fit_1.append(np.std([fit10[i], fit11[i]]))\n",
    "    \n",
    "avg_fit_2 = []\n",
    "std_fit_2 = []\n",
    "for i in range(length):\n",
    "    avg_fit_2.append(np.average([fit20[i], fit21[i]]))\n",
    "    std_fit_2.append(np.std([fit20[i], fit21[i]]))\n",
    "avg_fit_3 = []\n",
    "std_fit_3 = []\n",
    "for i in range(length):\n",
    "    avg_fit_3.append(np.average([fit30[i], fit31[i]]))\n",
    "    std_fit_3.append(np.std([fit30[i], fit31[i]]))\n",
    "plt.plot(avg_fit_1, label='\\u03B5 = 0.01')\n",
    "plt.fill_between(range(length), [a_i - b_i for a_i, b_i in zip(avg_fit_1, std_fit_1)],\n",
    "                 [a_i + b_i for a_i, b_i in zip(avg_fit_1, std_fit_1)], alpha=0.5)\n",
    "plt.plot(avg_fit_2, label='\\u03B5 = 0.08')\n",
    "plt.fill_between(range(length), [a_i - b_i for a_i, b_i in zip(avg_fit_2, std_fit_2)],\n",
    "                 [a_i + b_i for a_i, b_i in zip(avg_fit_2, std_fit_2)], alpha=0.5)\n",
    "plt.plot(avg_fit_3, label='\\u03B5 = 0.2')\n",
    "plt.fill_between(range(length), [a_i - b_i for a_i, b_i in zip(avg_fit_3, std_fit_3)],\n",
    "                 [a_i + b_i for a_i, b_i in zip(avg_fit_3, std_fit_3)], alpha=0.5)\n",
    "plt.legend()\n",
    "plt.title('Average fitness values while training')\n",
    "plt.savefig('pic3.png')\n",
    "plt.show()\n",
    "\n",
    "plt.plot(std_fit_1, label='\\u03B5 = 0.01')\n",
    "plt.plot(std_fit_2, label='\\u03B5 = 0.08')\n",
    "plt.plot(std_fit_3, label='\\u03B5 = 0.2')\n",
    "plt.legend()\n",
    "plt.title('STDev of fitness values while training')\n",
    "plt.savefig('pic4.png')\n",
    "plt.show()"
   ]
  },
  {
   "source": [
    "import pickle\n",
    "import matplotlib.pyplot as plt\n",
    "import numpy as np\n",
    "\n",
    "with open('/Users/neilmizzi/Desktop/learning_machines_assignment/learning_machines_robobo/src/fitness_epsilon0_run0.csv', 'rb') as f:\n",
    "    fit =pickle.load(f)"
   ],
   "cell_type": "code",
   "outputs": [],
   "metadata": {},
   "execution_count": 4
  },
  {
   "source": [
    "plt.plot(fit)\n",
    "plt.show()"
   ],
   "cell_type": "code",
   "outputs": [],
   "metadata": {},
   "execution_count": 5
  },
  {
   "cell_type": "code",
   "execution_count": null,
   "metadata": {},
   "outputs": [],
   "source": []
  }
 ]
}